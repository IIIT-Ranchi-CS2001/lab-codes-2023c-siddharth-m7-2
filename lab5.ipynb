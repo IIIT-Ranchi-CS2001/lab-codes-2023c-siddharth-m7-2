{
 "cells": [
  {
   "cell_type": "markdown",
   "metadata": {},
   "source": [
    "Generate two tuples to represent two distinct points in space. (Three dimensional geometry). Determine the Euclidean distance between the two.\n"
   ]
  },
  {
   "cell_type": "code",
   "execution_count": 26,
   "metadata": {},
   "outputs": [
    {
     "name": "stdout",
     "output_type": "stream",
     "text": [
      "2.0\n"
     ]
    }
   ],
   "source": [
    "tuple_one = tuple([int(x) for x in input().split()])\n",
    "tuple_two = tuple([int(x) for x in input().split()])\n",
    "dist=0\n",
    "for i in range(3):\n",
    "    dist = dist + (tuple_one[i] - tuple_two[i])**2\n",
    "print(dist**0.5)"
   ]
  },
  {
   "cell_type": "markdown",
   "metadata": {},
   "source": [
    "2. Enter the coordinates of two points on the cartesian plane. Find the equation of the straight line passing through these points.\n",
    "Hint: Eqn is (x-x1) = ((x1-x2)/(y1-y2)) (y-y1)"
   ]
  },
  {
   "cell_type": "code",
   "execution_count": 13,
   "metadata": {},
   "outputs": [
    {
     "name": "stdout",
     "output_type": "stream",
     "text": [
      "(x-1) = 1.0(y-4)\n"
     ]
    }
   ],
   "source": [
    "tuple_one = tuple([int(x) for x in input(\"Enter x1 and y1\").split()])\n",
    "tuple_two = tuple([int(x) for x in input(\"Enter x2 and y2\").split()])\n",
    "\n",
    "equation = f'(x-{tuple_one[0]}) = {(tuple_one[0]-tuple_two[0])/(tuple_one[1]-tuple_two[1])}(y-{tuple_one[1]})'\n",
    "print(equation)\n",
    "\n"
   ]
  },
  {
   "cell_type": "markdown",
   "metadata": {},
   "source": [
    "3. WAP to count the number of each character present in a string using the concept of a dictionary.\n"
   ]
  },
  {
   "cell_type": "code",
   "execution_count": 27,
   "metadata": {},
   "outputs": [
    {
     "name": "stdout",
     "output_type": "stream",
     "text": [
      "{'i': 12, ' ': 6, 'h': 1, 'a': 2, 'v': 1, 'e': 2, 't': 2, 'o': 1, 'p': 1, 'l': 1, 'y': 1, 'c': 2, 'r': 1, 'k': 1}\n"
     ]
    }
   ],
   "source": [
    "sentence = input(\"Enter a sentence: \")\n",
    "dict = {}\n",
    "for i in sentence:\n",
    "   dict[i] = dict.get(i,0) + 1\n",
    "print(dict)"
   ]
  },
  {
   "cell_type": "markdown",
   "metadata": {},
   "source": [
    "4. Enter three lists using list comprehension: Customer name, Customer ID, and shopping points. Construct a list of tuples with and without using built-in function zip()."
   ]
  },
  {
   "cell_type": "code",
   "execution_count": 28,
   "metadata": {},
   "outputs": [
    {
     "name": "stdout",
     "output_type": "stream",
     "text": [
      "[('Chirag', '3', '1'), ('Rudra', '2', '2'), ('Siddharth', '1', '150')]\n",
      "[('Chirag', '3', '1'), ('Rudra', '2', '2'), ('Siddharth', '1', '150')]\n"
     ]
    }
   ],
   "source": [
    "customer_name = [x for x in input(\"Enter customer name: \").split()]\n",
    "customer_id = [x for x in input(\"Enter customer id: \").split()]\n",
    "shopping_point = [x for x in input(\"Enter shopping point: \").split()]\n",
    "\n",
    "\n",
    "zipped_list = list(zip(customer_name,customer_id,shopping_point))\n",
    "print(zipped_list)\n",
    "\n",
    "new_list1=[]\n",
    "for i in range (min(len(customer_id),len(customer_name),len(shopping_point))):\n",
    "    tup = (customer_name[i],customer_id[i],shopping_point[i])\n",
    "    new_list1.append(tup)\n",
    "\n",
    "print(new_list1)"
   ]
  },
  {
   "cell_type": "markdown",
   "metadata": {},
   "source": [
    "5.Sort the list of tuples constructed above with and without sorted function"
   ]
  },
  {
   "cell_type": "code",
   "execution_count": 29,
   "metadata": {},
   "outputs": [
    {
     "name": "stdout",
     "output_type": "stream",
     "text": [
      "sorted using sorted fucntion [('Siddharth', '1', '150'), ('Rudra', '2', '2'), ('Chirag', '3', '1')]\n",
      "sorted using bubble sort [('Siddharth', '1', '150'), ('Rudra', '2', '2'), ('Chirag', '3', '1')]\n"
     ]
    }
   ],
   "source": [
    "new_list2= sorted(new_list1,key = lambda x: x[1])\n",
    "print(f\"sorted using sorted fucntion {new_list2}\")\n",
    "\n",
    "for i in range(len(new_list1)):\n",
    "    for j in range(i+1,len(new_list1)):\n",
    "        if new_list1[i][1] > new_list1[j][1]:\n",
    "            new_list1[i],new_list1[j] = new_list1[j],new_list1[i]\n",
    "\n",
    "print(f\"sorted using bubble sort {new_list1}\")\n",
    "\n",
    "\n"
   ]
  }
 ],
 "metadata": {
  "kernelspec": {
   "display_name": "Python 3",
   "language": "python",
   "name": "python3"
  },
  "language_info": {
   "codemirror_mode": {
    "name": "ipython",
    "version": 3
   },
   "file_extension": ".py",
   "mimetype": "text/x-python",
   "name": "python",
   "nbconvert_exporter": "python",
   "pygments_lexer": "ipython3",
   "version": "3.12.6"
  }
 },
 "nbformat": 4,
 "nbformat_minor": 2
}
