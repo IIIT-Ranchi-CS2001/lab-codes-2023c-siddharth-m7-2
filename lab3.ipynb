{
 "cells": [
  {
   "cell_type": "markdown",
   "metadata": {},
   "source": [
    "1. Write a python script to find the squares of first n natural numbers. Display both the number and the square as shown below. Use while loop\n",
    "\n"
   ]
  },
  {
   "cell_type": "code",
   "execution_count": 4,
   "metadata": {},
   "outputs": [
    {
     "name": "stdout",
     "output_type": "stream",
     "text": [
      "1 : 1\n",
      "2 : 4\n",
      "3 : 9\n",
      "4 : 16\n",
      "5 : 25\n"
     ]
    }
   ],
   "source": [
    "n = int(input(\"Enter the number: \"))\n",
    "i=1 \n",
    "while(i<=n):\n",
    "    print(i, \":\", i*i)\n",
    "    i+=1"
   ]
  },
  {
   "cell_type": "markdown",
   "metadata": {},
   "source": [
    "2. Write a python script to find the sum of the digits of the given number using a while loop. Display the number and the sum."
   ]
  },
  {
   "cell_type": "code",
   "execution_count": 19,
   "metadata": {},
   "outputs": [
    {
     "name": "stdout",
     "output_type": "stream",
     "text": [
      "Sum of digits of 454 is:  13\n"
     ]
    }
   ],
   "source": [
    "n= int(input(\"Enter the number: \"))\n",
    "m=n\n",
    "sum=0\n",
    "while(n>0):\n",
    "    d=n%10\n",
    "    sum+=d\n",
    "    n=n//10\n",
    "print(\"Sum of digits of\", m , \"is: \", sum)\n"
   ]
  },
  {
   "cell_type": "markdown",
   "metadata": {},
   "source": [
    "3. Write a python script to print the first n terms of the Fibonacci series using while loop"
   ]
  },
  {
   "cell_type": "code",
   "execution_count": 12,
   "metadata": {},
   "outputs": [
    {
     "name": "stdout",
     "output_type": "stream",
     "text": [
      "0\n",
      "1\n",
      "1\n",
      "2\n",
      "3\n",
      "5\n",
      "8\n",
      "13\n",
      "21\n",
      "34\n"
     ]
    }
   ],
   "source": [
    "n= int(input(\"Enter the number: \"))\n",
    "a=0\n",
    "b=1\n",
    "i=0\n",
    "while(i<n):\n",
    "    i=i+1\n",
    "    print(a)\n",
    "    c=a+b\n",
    "    a=b\n",
    "    b=c\n"
   ]
  },
  {
   "cell_type": "markdown",
   "metadata": {},
   "source": [
    "4. Write a python script to print the multiplication table of a given number up to the specified limit using a for loop."
   ]
  },
  {
   "cell_type": "code",
   "execution_count": 13,
   "metadata": {},
   "outputs": [
    {
     "name": "stdout",
     "output_type": "stream",
     "text": [
      "5 * 1 = 5\n",
      "5 * 2 = 10\n",
      "5 * 3 = 15\n",
      "5 * 4 = 20\n",
      "5 * 5 = 25\n",
      "5 * 6 = 30\n",
      "5 * 7 = 35\n",
      "5 * 8 = 40\n",
      "5 * 9 = 45\n",
      "5 * 10 = 50\n"
     ]
    }
   ],
   "source": [
    "n= int(input(\"Enter the number: \"))\n",
    "l=int (input(\"Enter the limit: \"))\n",
    "i=1\n",
    "while(i<=l):\n",
    "    print(n, \"*\", i, \"=\", n*i)\n",
    "    i+=1\n"
   ]
  },
  {
   "cell_type": "markdown",
   "metadata": {},
   "source": [
    "5. Write a python script to check whether all the characters present in a string are alphanumeric (uppercase letters, lowercase letters or digits) using for. Print True if all characters are alphanumeric. Otherwise print False.\n"
   ]
  },
  {
   "cell_type": "code",
   "execution_count": 14,
   "metadata": {},
   "outputs": [
    {
     "name": "stdout",
     "output_type": "stream",
     "text": [
      "True, The string is alphanumeric\n"
     ]
    }
   ],
   "source": [
    "a=input(\"Enter the string: \")\n",
    "if(a.isalnum()):\n",
    "    print(\"True, The string is alphanumeric\")\n",
    "else:\n",
    "    print(\"False, The string is not alphanumeric\")"
   ]
  },
  {
   "cell_type": "markdown",
   "metadata": {},
   "source": [
    "6. Write a python script to find the number of occurrences of a particular character present in the given string using a loop. (Don’t use string methods)."
   ]
  },
  {
   "cell_type": "code",
   "execution_count": 17,
   "metadata": {},
   "outputs": [
    {
     "name": "stdout",
     "output_type": "stream",
     "text": [
      "e is present 2 times in Typewriter\n"
     ]
    }
   ],
   "source": [
    "s=input(\"Enter the string: \")\n",
    "c=input(\"Enter the character to be counted: \")\n",
    "count=0\n",
    "for i in s:\n",
    "    if i==c:\n",
    "        count+=1\n",
    "print(c, \"is present\", count , \"times in\", s)"
   ]
  }
 ],
 "metadata": {
  "kernelspec": {
   "display_name": "Python 3",
   "language": "python",
   "name": "python3"
  },
  "language_info": {
   "codemirror_mode": {
    "name": "ipython",
    "version": 3
   },
   "file_extension": ".py",
   "mimetype": "text/x-python",
   "name": "python",
   "nbconvert_exporter": "python",
   "pygments_lexer": "ipython3",
   "version": "3.12.6"
  }
 },
 "nbformat": 4,
 "nbformat_minor": 2
}
