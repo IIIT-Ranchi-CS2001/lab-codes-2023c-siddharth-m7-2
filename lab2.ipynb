{
 "cells": [
  {
   "cell_type": "code",
   "execution_count": 1,
   "metadata": {},
   "outputs": [
    {
     "name": "stdout",
     "output_type": "stream",
     "text": [
      "mAHA bHARAT\n",
      "Bharat\n",
      "BharatBharatBharat\n",
      "Mera Bharat\n",
      "Mera Bharat Mahan\n"
     ]
    }
   ],
   "source": [
    "# If the given string S1= “Maha Bharat”, generate the following strings by manipulating S1.\n",
    "# “mAHA bHARAT”\n",
    "# “Bharat”\n",
    "# “BharatBharatBharat”\n",
    "# “Mera Bharat”\n",
    "# “Mera Bharat Mahan”\n",
    "\n",
    "def manipulate_string(s1):\n",
    "    print(s1.swapcase())\n",
    "    print(s1[5:])\n",
    "    print(s1[5:]*3)\n",
    "    print(\"Mera\", s1[5:])\n",
    "    print(\"Mera\", s1[5:], \"Mahan\")\n",
    "\n",
    "s1 = \"Maha Bharat\"\n",
    "manipulate_string(s1)\n",
    "\n"
   ]
  },
  {
   "cell_type": "code",
   "execution_count": 2,
   "metadata": {},
   "outputs": [
    {
     "name": "stdout",
     "output_type": "stream",
     "text": [
      "17\n",
      "14\n",
      "3\n",
      "Ta Ta Black Sheep\n"
     ]
    }
   ],
   "source": [
    "# For the given string S=”Ba Ba Black Sheep”, determine the following using built in functions:\n",
    "# The length of the string S\n",
    "# The first occurrence of the letter ‘e’\n",
    "# The total number of occurrences of ‘a’\n",
    "# Generate “Ta Ta Black Sheep”\n",
    "\n",
    "\n",
    "def manipulate_string(s):\n",
    "    print(len(s))\n",
    "    print(s.find('e'))\n",
    "    print(s.count('a'))\n",
    "    print(s.replace('Ba', 'Ta'))\n",
    "\n",
    "s = \"Ba Ba Black Sheep\"\n",
    "manipulate_string(s)\n"
   ]
  },
  {
   "cell_type": "code",
   "execution_count": 4,
   "metadata": {},
   "outputs": [
    {
     "name": "stdout",
     "output_type": "stream",
     "text": [
      "Palindrome\n"
     ]
    }
   ],
   "source": [
    "# Write a python script to enter any string at run time and check whether it is a palindrome or not.\n",
    "\n",
    "def check_palindrome(s):\n",
    "    if s == s[::-1]:\n",
    "        print(\"Palindrome\")\n",
    "    else:\n",
    "        print(\"Not Palindrome\")\n",
    "\n",
    "s = input(\"Enter a string: \")\n",
    "check_palindrome(s)\n",
    "\n"
   ]
  },
  {
   "cell_type": "code",
   "execution_count": 5,
   "metadata": {},
   "outputs": [
    {
     "name": "stdout",
     "output_type": "stream",
     "text": [
      "Name: Siddharth\n",
      "Roll Number: 2\n",
      "Marks: 99\n",
      "Grade Point: 10\n",
      "Remark: Outstanding\n"
     ]
    }
   ],
   "source": [
    "# Enter the following details of a student at run time: - Name, Roll number and marks secured for Mathematics Examination out of 100. Write a python script to display student details as shown:\n",
    "# Name:\n",
    "# Roll Number:\n",
    "# Marks:\n",
    "# Grade Point:\n",
    "# Remark:\n",
    "\n",
    "def student_details():\n",
    "    name = input(\"Enter Name: \")\n",
    "    roll_no = input(\"Enter Roll Number: \")\n",
    "    marks = int(input(\"Enter Marks: \"))\n",
    "    if marks >= 90:\n",
    "        grade_point = 10\n",
    "        remark = \"Outstanding\"\n",
    "    elif marks >= 80:\n",
    "        grade_point = 9\n",
    "        remark = \"Very Good\"\n",
    "    elif marks >= 70:\n",
    "        grade_point = 8\n",
    "        remark = \"Good\"\n",
    "    elif marks >= 60:\n",
    "        grade_point = 7\n",
    "        remark = \"Average\"\n",
    "    elif marks >= 50:\n",
    "        grade_point = 6\n",
    "        remark = \"Pass\"\n",
    "    else:\n",
    "        grade_point = 0\n",
    "        remark = \"Fail\"\n",
    "    print(\"Name:\", name)\n",
    "    print(\"Roll Number:\", roll_no)\n",
    "    print(\"Marks:\", marks)\n",
    "    print(\"Grade Point:\", grade_point)\n",
    "    print(\"Remark:\", remark)\n",
    "\n",
    "\n",
    "student_details()\n"
   ]
  },
  {
   "cell_type": "code",
   "execution_count": 11,
   "metadata": {},
   "outputs": [
    {
     "name": "stdout",
     "output_type": "stream",
     "text": [
      "Roots are: 4.561552812808831 0.4384471871911697\n"
     ]
    }
   ],
   "source": [
    "# Write a program to find the roots of a quadratic equation when the coefficients a, b and c are given ( assume that a, b and c are integers)\n",
    "\n",
    "\n",
    "def find_roots(a, b, c):\n",
    "    d = b**2 - 4*a*c\n",
    "    if d > 0:\n",
    "        root1 = (-b + d**0.5) / (2*a)\n",
    "        root2 = (-b - d**0.5) / (2*a)\n",
    "        print(\"Roots are:\", root1, root2)\n",
    "    elif d == 0:\n",
    "        root = -b / (2*a)\n",
    "        print(\"Both Roots are:\", root)\n",
    "    else:\n",
    "        real_part = -b / (2*a)\n",
    "        imaginary_part = (-d)**0.5 / (2*a)\n",
    "        print(\"Roots are:\", real_part, \"+\", imaginary_part, \"and\", \"i\", real_part, \"-\", imaginary_part, \"i\")\n",
    "\n",
    "a = int(input(\"Enter a: \"))\n",
    "b = int(input(\"Enter b: \"))\n",
    "c = int(input(\"Enter c: \"))\n",
    "find_roots(a, b, c)\n"
   ]
  }
 ],
 "metadata": {
  "kernelspec": {
   "display_name": "Python 3",
   "language": "python",
   "name": "python3"
  },
  "language_info": {
   "codemirror_mode": {
    "name": "ipython",
    "version": 3
   },
   "file_extension": ".py",
   "mimetype": "text/x-python",
   "name": "python",
   "nbconvert_exporter": "python",
   "pygments_lexer": "ipython3",
   "version": "3.12.5"
  }
 },
 "nbformat": 4,
 "nbformat_minor": 2
}
