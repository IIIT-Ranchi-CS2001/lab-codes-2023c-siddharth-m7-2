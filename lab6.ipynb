{
 "cells": [
  {
   "cell_type": "markdown",
   "metadata": {},
   "source": [
    "1. Define a function my_zip() that can form a list of tuples by iterating the following customer details:- ‘customer Name, customer ID , shopping points’ and based on the keyword parameter ‘strct’: If strct = True, zipping shall be done only if all lists are of equal length. If strct = False, zipping can be done by taking the minimum length of the iterable."
   ]
  },
  {
   "cell_type": "code",
   "execution_count": 25,
   "metadata": {},
   "outputs": [
    {
     "name": "stdout",
     "output_type": "stream",
     "text": [
      "[('Chirag', 1, 11), ('Rudra', 2, 33), ('Siddharth', 4, 44)]\n"
     ]
    }
   ],
   "source": [
    "def my_zip(customer_name, customer_id, shopping_point, strct):\n",
    "    if strct == True:\n",
    "        if len(customer_name) == len(customer_id) == len(shopping_point):\n",
    "            return list(zip(customer_name, customer_id, shopping_point))\n",
    "        else:\n",
    "            return \"Length of the lists are not equal\"\n",
    "    else:\n",
    "        return list(zip(customer_name, customer_id, shopping_point))\n",
    "    \n",
    "\n",
    "\n",
    "\n",
    "\n",
    "customer_name = [x for x in input(\"Enter customer name: \").split()]\n",
    "customer_id = [int(x) for x in input(\"Enter customer id: \").split()]\n",
    "shopping_point = [int(x) for x in input(\"Enter shopping point: \").split()]\n",
    "strct = bool(input(\"Enter True or False: \"))\n",
    "new_list = my_zip(customer_name, customer_id, shopping_point, strct)\n",
    "\n",
    "print(new_list)\n",
    "\n"
   ]
  },
  {
   "cell_type": "markdown",
   "metadata": {},
   "source": [
    "Define a function my_sort() to sort the list of tuples created using my_zipfunction in the last question. The function must have two types of arguments- the list that carry the data, the key that determines the argument of sorting\n",
    "Key = 0: sorting based on customer name in ascending order\n",
    "Key = 1: sorting based on Customer ID\n",
    "Key = 2: sorting based on shopping points"
   ]
  },
  {
   "cell_type": "code",
   "execution_count": 26,
   "metadata": {},
   "outputs": [
    {
     "name": "stdout",
     "output_type": "stream",
     "text": [
      "[('Chirag', 1, 11), ('Rudra', 2, 33), ('Siddharth', 4, 44)]\n"
     ]
    }
   ],
   "source": [
    "def my_sort(new_list , key):\n",
    "     if key == 0:\n",
    "          new_list.sort(key = lambda x: x[0])\n",
    "     elif key == 1:\n",
    "          new_list.sort(key = lambda x: x[1])\n",
    "     elif key == 2:\n",
    "          new_list.sort(key = lambda x: x[2])\n",
    "     \n",
    "\n",
    "key = int(input(\"Enter the key: \"))\n",
    "new_list_sorted = my_sort(new_list, key)\n",
    "print(new_list)"
   ]
  },
  {
   "cell_type": "markdown",
   "metadata": {},
   "source": [
    "3. Write program to define a function my_max() to complete the following tasks: [Usage of built-in function max() is strictly prohibited]\n",
    "If a list of integers is passed as the input argument, the function shall return maximum value present in the list\n",
    "If a set is passed, maximum value present in the list\n",
    "If a tuple is passed, maximum value present in the tuple\n",
    "Hint: Pass the container type unpacked using *\n"
   ]
  },
  {
   "cell_type": "code",
   "execution_count": 18,
   "metadata": {},
   "outputs": [
    {
     "name": "stdout",
     "output_type": "stream",
     "text": [
      "6\n"
     ]
    }
   ],
   "source": [
    "def my_max(args):\n",
    "    m=0\n",
    "    for i in args:\n",
    "        if i>m:\n",
    "            m=i\n",
    "    return m\n",
    "\n",
    "    \n",
    "\n",
    "myset = { int(x) for x in input(\"Enter the numbers: \").split()}\n",
    "max_number = my_max(myset)\n",
    "print(max_number)"
   ]
  }
 ],
 "metadata": {
  "kernelspec": {
   "display_name": "Python 3",
   "language": "python",
   "name": "python3"
  },
  "language_info": {
   "codemirror_mode": {
    "name": "ipython",
    "version": 3
   },
   "file_extension": ".py",
   "mimetype": "text/x-python",
   "name": "python",
   "nbconvert_exporter": "python",
   "pygments_lexer": "ipython3",
   "version": "3.12.6"
  }
 },
 "nbformat": 4,
 "nbformat_minor": 2
}
