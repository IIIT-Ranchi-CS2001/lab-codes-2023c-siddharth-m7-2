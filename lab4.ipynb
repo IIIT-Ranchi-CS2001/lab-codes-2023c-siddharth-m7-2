{
 "cells": [
  {
   "cell_type": "markdown",
   "metadata": {},
   "source": [
    "1. Find the number of palindrome words in the given sentence without defining any new function (feel free to use python’s in-built functions)."
   ]
  },
  {
   "cell_type": "code",
   "execution_count": 6,
   "metadata": {},
   "outputs": [
    {
     "name": "stdout",
     "output_type": "stream",
     "text": [
      "Number of palindromes : 2\n"
     ]
    }
   ],
   "source": [
    "sentence= [x for x in input().split()]\n",
    "count_palindrome=0\n",
    "for word in sentence:\n",
    "    rev_word = word[::-1]\n",
    "    if word == rev_word:\n",
    "        count_palindrome=count_palindrome+1\n",
    "\n",
    "print(f\"Number of palindromes : {count_palindrome}\")"
   ]
  },
  {
   "cell_type": "markdown",
   "metadata": {},
   "source": [
    "2. Create a list of int using list comprehension [multiple input from keyboard].  Find the mean, median, and mode of the given list (usage of specific modules such as statistics is strictly prohibited. Lab problems are for you to build-up logic and strengthen your understanding of the topic & its concepts).\n"
   ]
  },
  {
   "cell_type": "code",
   "execution_count": 9,
   "metadata": {},
   "outputs": [
    {
     "name": "stdout",
     "output_type": "stream",
     "text": [
      "Mean : 35.142857142857146\n",
      "Median : 34\n",
      "Mode : 56\n"
     ]
    }
   ],
   "source": [
    "numbers=[int(x) for x in input().split()]\n",
    "mean, median, mode = 0, 0, 0\n",
    "numbers.sort()\n",
    "sum_numbers = sum(numbers)\n",
    "mean = sum_numbers / len(numbers)\n",
    "print(f\"Mean : {mean}\")\n",
    "\n",
    "if len(numbers) % 2 == 0:\n",
    "    median = (numbers[len(numbers) // 2] + numbers[len(numbers) // 2 - 1]) / 2\n",
    "else:\n",
    "    median = numbers[len(numbers) // 2]\n",
    "\n",
    "print(f\"Median : {median}\")\n",
    "\n",
    "max_count = 0\n",
    "for i in numbers:\n",
    "    if numbers.count(i) > max_count:\n",
    "        max_count = numbers.count(i)\n",
    "        mode = i\n",
    "\n",
    "print(f\"Mode : {mode}\")\n"
   ]
  },
  {
   "cell_type": "markdown",
   "metadata": {},
   "source": [
    "3. Generate 2 lists (course code and course name). create a new list with both course code and name like[\"CS1001:Python\",...]\n"
   ]
  },
  {
   "cell_type": "code",
   "execution_count": 13,
   "metadata": {},
   "outputs": [
    {
     "name": "stdout",
     "output_type": "stream",
     "text": [
      "[('CS2001', 'Python Programming'), ('MA2001', 'Mathematics'), ('CS2003', 'Computer Organisation and Architechure'), ('EC2001', 'Analog and Linear IC'), ('EC2003', 'Circuit Analysis and Synthesis')]\n"
     ]
    }
   ],
   "source": [
    "l1 = ['CS2001', 'MA2001', 'CS2003', 'EC2001', 'EC2003']\n",
    "l2 = ['Python Programming', 'Mathematics', 'Computer Organisation and Architechure', 'Analog and Linear IC', 'Circuit Analysis and Synthesis']\n",
    "list_zipped = list(zip(l1, l2))\n",
    "print(list_zipped)"
   ]
  },
  {
   "cell_type": "markdown",
   "metadata": {},
   "source": [
    "4. Generate two sets – first for all singers and second for all dancers of the class using set comprehension. Perform set operations to generate the following sets of \n",
    "a. all artists of the class\n",
    "b. allrounders of the class\n",
    "c. dancers but not singers\n",
    "d. singers but not dancers\n",
    "e. dancers but not singers cum singers but not dancers\n"
   ]
  },
  {
   "cell_type": "code",
   "execution_count": 16,
   "metadata": {},
   "outputs": [
    {
     "name": "stdout",
     "output_type": "stream",
     "text": [
      "All Artists : {'Rudra', 'Arijit', 'Chirag', 'Anil'}\n",
      "Alrounders : {'Rudra', 'Chirag'}\n",
      "Singers only : {'Arijit'}\n",
      "Dancers only : {'Anil'}\n",
      "Dancers but not Singers cum Singers but not Dancers: {'Arijit', 'Anil'}\n"
     ]
    }
   ],
   "source": [
    "singers = { x for x in input(\"Enter Singers\").split()}\n",
    "dancers = { x for x in input(\"Enter Dancers\").split()}\n",
    "\n",
    "print(f\"All Artists : {singers | dancers}\")\n",
    "print(f\"Alrounders : {singers & dancers}\")\n",
    "print(f\"Singers only : {singers - dancers}\")\n",
    "print(f\"Dancers only : {dancers - singers}\")\n",
    "print(f\"Dancers but not Singers cum Singers but not Dancers: {singers ^ dancers}\")"
   ]
  }
 ],
 "metadata": {
  "kernelspec": {
   "display_name": "Python 3",
   "language": "python",
   "name": "python3"
  },
  "language_info": {
   "codemirror_mode": {
    "name": "ipython",
    "version": 3
   },
   "file_extension": ".py",
   "mimetype": "text/x-python",
   "name": "python",
   "nbconvert_exporter": "python",
   "pygments_lexer": "ipython3",
   "version": "3.12.6"
  }
 },
 "nbformat": 4,
 "nbformat_minor": 2
}
